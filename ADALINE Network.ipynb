{
  "cells": [
    {
      "cell_type": "markdown",
      "metadata": {
        "id": "view-in-github",
        "colab_type": "text"
      },
      "source": [
        "<a href=\"https://colab.research.google.com/github/2147118Joshua/Neural-Networks/blob/main/ADALINE%20Network.ipynb\" target=\"_parent\"><img src=\"https://colab.research.google.com/assets/colab-badge.svg\" alt=\"Open In Colab\"/></a>"
      ]
    },
    {
      "cell_type": "code",
      "source": [
        "# import the module numpy\n",
        "import numpy as np\n",
        "\n",
        "\n",
        "# the features for the or model , here we have\n",
        "# taken the possible values for combination of\n",
        "# two inputs\n",
        "features = np.array(\n",
        "  [\n",
        "    [1, 1],\n",
        "    [1, -1],\n",
        "    [-1, 1],\n",
        "    [-1, -1]\n",
        "  ])\n"
      ],
      "metadata": {
        "id": "wM1N_zAj-Tgp"
      },
      "execution_count": 1,
      "outputs": []
    },
    {
      "cell_type": "code",
      "source": [
        "# labels for the or model, here the output for\n",
        "# the features is taken as an array\n",
        "labels = np.array([1, 1, 1, -1])\n",
        "\n",
        "# to print the features and the labels for\n",
        "# which the model has to be trained\n",
        "print(features, labels)\n",
        "\n",
        "# initialise weights, bias , learning rate, epoch\n",
        "weight = [0.1, 0.1]\n",
        "bias = 0.1\n",
        "learning_rate = 0.1\n",
        "epoch = 5"
      ],
      "metadata": {
        "id": "BxPVhCnP-ZI1",
        "outputId": "14cc0d39-1aef-407a-c247-f58009e8dada",
        "colab": {
          "base_uri": "https://localhost:8080/"
        }
      },
      "execution_count": 2,
      "outputs": [
        {
          "output_type": "stream",
          "name": "stdout",
          "text": [
            "[[ 1  1]\n",
            " [ 1 -1]\n",
            " [-1  1]\n",
            " [-1 -1]] [ 1  1  1 -1]\n"
          ]
        }
      ]
    },
    {
      "cell_type": "code",
      "source": [
        "for i in range(epoch):\n",
        "\n",
        "  # epoch is the number of the model is trained\n",
        "  # with the same data\n",
        "  print(\"epoch :\", i+1)\n",
        "\n",
        "  # variable to check if there is no change in previous\n",
        "  # weight and present calculated weight\n",
        "  # initial error is kept as 0\n",
        "  sum_squared_error = 0.0\n",
        "\n",
        "  # for each of the possible input given in the features\n",
        "  for j in range(features.shape[0]):\n",
        "\n",
        "    # actual output to be obtained\n",
        "    actual = labels[j]\n",
        "\n",
        "    # the value of two features as given in the features\n",
        "    # array\n",
        "    x1 = features[j][0]\n",
        "    x2 = features[j][1]\n",
        "\n",
        "    # net unit value computation performed to obtain the\n",
        "    # sum of features multiplied with their weights\n",
        "    unit = (x1 * weight[0]) + (x2 * weight[1]) + bias\n",
        "\n",
        "    # error is computed so as to update the weights\n",
        "    error = actual - unit\n",
        "\n",
        "    # print statement to print the actual value , predicted\n",
        "    # value and the error\n",
        "    print(\"error =\", error)\n",
        "\n",
        "    # summation of squared error is calculated\n",
        "    sum_squared_error += error * error\n",
        "\n",
        "    # updation of weights, summing up of product of learning rate ,\n",
        "    # sum of squared error and feature value\n",
        "    weight[0] += learning_rate * error * x1\n",
        "    weight[1] += learning_rate * error * x2\n",
        "\n",
        "    # updation of bias, summing up of product of learning rate and\n",
        "    # sum of squared error\n",
        "    bias += learning_rate * error\n",
        "\n",
        "  print(\"sum of squared error = \", sum_squared_error/4, \"\\n\\n\")"
      ],
      "metadata": {
        "id": "Iji-Bu1K-jHr",
        "outputId": "87b3ce90-e5de-4fab-e438-d32fd921dc1a",
        "colab": {
          "base_uri": "https://localhost:8080/"
        }
      },
      "execution_count": 3,
      "outputs": [
        {
          "output_type": "stream",
          "name": "stdout",
          "text": [
            "epoch : 1\n",
            "error = 0.7\n",
            "error = 0.8300000000000001\n",
            "error = 0.913\n",
            "error = -1.0043\n",
            "sum of squared error =  0.7552718725 \n",
            "\n",
            "\n",
            "epoch : 2\n",
            "error = 0.21527000000000007\n",
            "error = 0.751203\n",
            "error = 0.7931233000000001\n",
            "error = -0.83591563\n",
            "sum of squared error =  0.4846116573975468 \n",
            "\n",
            "\n",
            "epoch : 3\n",
            "error = -0.08733519300000014\n",
            "error = 0.6974795122999999\n",
            "error = 0.71725934353\n",
            "error = -0.7353483458829999\n",
            "sum of squared error =  0.3873258154221359 \n",
            "\n",
            "\n",
            "epoch : 4\n",
            "error = -0.2761433552713002\n",
            "error = 0.66111076307843\n",
            "error = 0.669341786894273\n",
            "error = -0.6754034326425002\n",
            "sum of squared error =  0.3543777045566816 \n",
            "\n",
            "\n",
            "epoch : 5\n",
            "error = -0.39388594695143064\n",
            "error = 0.6366406508037212\n",
            "error = 0.6391322538657562\n",
            "error = -0.639748288011841\n",
            "sum of squared error =  0.34455634185180345 \n",
            "\n",
            "\n"
          ]
        }
      ]
    }
  ],
  "metadata": {
    "colab": {
      "collapsed_sections": [],
      "name": "Welcome To Colaboratory",
      "toc_visible": true,
      "provenance": [],
      "include_colab_link": true
    },
    "kernelspec": {
      "display_name": "Python 3",
      "name": "python3"
    }
  },
  "nbformat": 4,
  "nbformat_minor": 0
}