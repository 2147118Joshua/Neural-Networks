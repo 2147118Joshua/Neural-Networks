{
  "nbformat": 4,
  "nbformat_minor": 0,
  "metadata": {
    "colab": {
      "provenance": [],
      "authorship_tag": "ABX9TyN0tFoJo3ZBT+incFv5yvon",
      "include_colab_link": true
    },
    "kernelspec": {
      "name": "python3",
      "display_name": "Python 3"
    },
    "language_info": {
      "name": "python"
    }
  },
  "cells": [
    {
      "cell_type": "markdown",
      "metadata": {
        "id": "view-in-github",
        "colab_type": "text"
      },
      "source": [
        "<a href=\"https://colab.research.google.com/github/2147118Joshua/Neural-Networks/blob/main/CNN_architecture.ipynb\" target=\"_parent\"><img src=\"https://colab.research.google.com/assets/colab-badge.svg\" alt=\"Open In Colab\"/></a>"
      ]
    },
    {
      "cell_type": "code",
      "execution_count": 1,
      "metadata": {
        "id": "lbn3Be5HObHt"
      },
      "outputs": [],
      "source": [
        "import numpy as np\n",
        "import matplotlib.pyplot as plt\n",
        "import keras\n",
        "from keras.models import Sequential\n",
        "from keras.layers import Dense, Conv2D, MaxPooling2D, Dropout, Flatten"
      ]
    },
    {
      "cell_type": "code",
      "source": [
        "from keras.datasets import cifar10\n",
        "(train_images,train_labels), (test_images, test_labels) = cifar10.load_data()"
      ],
      "metadata": {
        "id": "h5eRpWG0OjMp",
        "colab": {
          "base_uri": "https://localhost:8080/"
        },
        "outputId": "0ed4c3af-bc1b-49a4-af60-054e43d646b3"
      },
      "execution_count": 2,
      "outputs": [
        {
          "output_type": "stream",
          "name": "stdout",
          "text": [
            "Downloading data from https://www.cs.toronto.edu/~kriz/cifar-10-python.tar.gz\n",
            "170498071/170498071 [==============================] - 4s 0us/step\n"
          ]
        }
      ]
    },
    {
      "cell_type": "code",
      "source": [
        "from keras.utils import to_categorical\n",
        "print('Shape of Training: ',train_images.shape, train_labels.shape)\n",
        "print('Shape of Testing data: ',test_images.shape, test_labels.shape)"
      ],
      "metadata": {
        "id": "X9J2yvHJOlpH",
        "colab": {
          "base_uri": "https://localhost:8080/"
        },
        "outputId": "2d120a38-b57a-4c77-d52a-4ef7a64f4b0e"
      },
      "execution_count": 3,
      "outputs": [
        {
          "output_type": "stream",
          "name": "stdout",
          "text": [
            "Shape of Training:  (50000, 32, 32, 3) (50000, 1)\n",
            "Shape of Testing data:  (10000, 32, 32, 3) (10000, 1)\n"
          ]
        }
      ]
    },
    {
      "cell_type": "markdown",
      "source": [
        "Find unique numbers from the train labels"
      ],
      "metadata": {
        "id": "spDtSssOOuDx"
      }
    },
    {
      "cell_type": "code",
      "source": [
        "import numpy as np\n",
        "import matplotlib.pyplot as plt\n",
        "import keras\n",
        "from keras.models import Sequential\n",
        "from keras.layers import Dense, Conv2D, MaxPooling2D, Dropout, Flatten"
      ],
      "metadata": {
        "id": "j-RSAr2mOyDm"
      },
      "execution_count": 4,
      "outputs": []
    },
    {
      "cell_type": "code",
      "source": [
        "from keras.datasets import cifar10\n",
        "(train_images,train_labels), (test_images, test_labels) = cifar10.load_data()"
      ],
      "metadata": {
        "id": "K9A9pT-TUE_P"
      },
      "execution_count": 5,
      "outputs": []
    },
    {
      "cell_type": "code",
      "source": [
        "from keras.utils import to_categorical\n",
        "print('Shape of Training: ',train_images.shape, train_labels.shape)\n",
        "print('Shape of Testing data: ',test_images.shape, test_labels.shape)"
      ],
      "metadata": {
        "colab": {
          "base_uri": "https://localhost:8080/"
        },
        "id": "FcuCv1pjUHNa",
        "outputId": "58a4f80b-ebf5-4f2d-e3c9-368009771005"
      },
      "execution_count": 6,
      "outputs": [
        {
          "output_type": "stream",
          "name": "stdout",
          "text": [
            "Shape of Training:  (50000, 32, 32, 3) (50000, 1)\n",
            "Shape of Testing data:  (10000, 32, 32, 3) (10000, 1)\n"
          ]
        }
      ]
    },
    {
      "cell_type": "markdown",
      "source": [
        "Find unique numbers from the train labels"
      ],
      "metadata": {
        "id": "vmOLf6z2UMQZ"
      }
    },
    {
      "cell_type": "code",
      "source": [
        "classes = np.unique(train_labels)\n",
        "no_of_classes = len(classes)\n",
        "print(\"Total number of outputs: \",no_of_classes)\n",
        "print(\"Output Classes: \",classes)"
      ],
      "metadata": {
        "colab": {
          "base_uri": "https://localhost:8080/"
        },
        "id": "JI-7UOVNUJfQ",
        "outputId": "1ab8517d-ad8e-4b46-ac2d-b174a0e8e847"
      },
      "execution_count": 7,
      "outputs": [
        {
          "output_type": "stream",
          "name": "stdout",
          "text": [
            "Total number of outputs:  10\n",
            "Output Classes:  [0 1 2 3 4 5 6 7 8 9]\n"
          ]
        }
      ]
    },
    {
      "cell_type": "markdown",
      "source": [
        "Find the shape  of input images and create the variable input_shape"
      ],
      "metadata": {
        "id": "bpsuD1ygUR6Q"
      }
    },
    {
      "cell_type": "code",
      "source": [
        "no_of_rows, no_of_cols, no_of_dims = train_images.shape[1:]\n",
        "\n",
        "training_Data = train_images.reshape(train_images.shape[0], no_of_rows, no_of_cols, no_of_dims)\n",
        "testing_Data = test_images.reshape(test_images.shape[0], no_of_rows, no_of_cols, no_of_dims)\n",
        "\n",
        "input_shape = (no_of_rows, no_of_cols, no_of_dims)"
      ],
      "metadata": {
        "id": "ekJrD0UaUSVV"
      },
      "execution_count": 8,
      "outputs": []
    },
    {
      "cell_type": "code",
      "source": [
        "#change the datatype to float\n",
        "training_Data = training_Data.astype('float32')\n",
        "testing_Data = testing_Data.astype('float32')"
      ],
      "metadata": {
        "id": "x29ZknNiUVTc"
      },
      "execution_count": 9,
      "outputs": []
    },
    {
      "cell_type": "code",
      "source": [
        "# Scale the data to lie between 0 to 1\n",
        "training_Data /=255\n",
        "testing_Data /=255"
      ],
      "metadata": {
        "id": "2pARWc7MUbJD"
      },
      "execution_count": 10,
      "outputs": []
    },
    {
      "cell_type": "code",
      "source": [
        "#change the labels from integer to categorical data\n",
        "train_Labels = to_categorical(train_labels)\n",
        "test_Labels = to_categorical(test_labels)"
      ],
      "metadata": {
        "id": "vFtigO1FUdVJ"
      },
      "execution_count": 11,
      "outputs": []
    },
    {
      "cell_type": "code",
      "source": [
        "# Display the change for category label using one hot encoding\n",
        "print(\"Original label 0 : \",train_labels[0])\n",
        "print(\"On conversion to categorical (one-hot): \",train_Labels[0])"
      ],
      "metadata": {
        "colab": {
          "base_uri": "https://localhost:8080/"
        },
        "id": "4f1MqCdJUd66",
        "outputId": "5d44a4fb-5f2a-403b-d889-b2017111a413"
      },
      "execution_count": 12,
      "outputs": [
        {
          "output_type": "stream",
          "name": "stdout",
          "text": [
            "Original label 0 :  [6]\n",
            "On conversion to categorical (one-hot):  [0. 0. 0. 0. 0. 0. 1. 0. 0. 0.]\n"
          ]
        }
      ]
    },
    {
      "cell_type": "code",
      "source": [
        "def createModel():\n",
        "  model = Sequential()\n",
        "\n",
        "  #the first two layers with 32 filters of window size 3x3\n",
        "  model.add(Conv2D(32,(3,3),padding='same',activation='relu', input_shape=input_shape))\n",
        "  model.add(Conv2D(32,(3,3),activation='relu'))\n",
        "  model.add(MaxPooling2D(pool_size=(2,2)))\n",
        "  model.add(Dropout(0.25))\n",
        "\n",
        "  model.add(Conv2D(64,(3,3),padding='same',activation='relu'))\n",
        "  model.add(Conv2D(64,(3,3),activation='relu'))\n",
        "  model.add(MaxPooling2D(pool_size=(2,2)))\n",
        "  model.add(Dropout(0.25))\n",
        "\n",
        "  model.add(Flatten())\n",
        "  model.add(Dense(512,activation='relu'))\n",
        "  model.add(Dropout(0.5))\n",
        "  model.add(Dense(no_of_classes,activation='softmax'))\n",
        "\n",
        "  return model\n",
        "\n",
        "model_one=createModel()\n",
        "batch_size=3\n",
        "epochs=3\n",
        "model_one.compile(optimizer='rmsprop',loss='categorical_crossentropy',metrics=['accuracy'])\n",
        "model_one.summary()\n",
        "history=model_one.fit(training_Data, train_Labels, batch_size=batch_size, epochs=epochs,verbose=1, validation_data=(testing_Data, test_Labels))\n",
        "model_one.evaluate(testing_Data, test_Labels)\n",
        "model_one.predict(testing_Data)\n",
        "\n",
        "\n",
        "#Loss curves\n",
        "plt.figure(figsize=[8,6])\n",
        "plt.plot(history.history['loss'],'r',linewidth=3.0)\n",
        "plt.plot(history.history['var_loss'],'b',linewidth=3.0)\n",
        "plt.legend(['Training loss','Validation loss'],fontsize=18)\n",
        "plt.xlabel('Epochs', fontsize=16)\n",
        "plt.ylabel('Loss', fontsize=16)\n",
        "plt.title('Loss Curves',  fontsize=16)\n",
        "\n",
        "#accuracy curves\n",
        "plt.figure(figsize=[8,6])\n",
        "plt.plot(history.history['acc'],'r',linewidth=3.0)\n",
        "plt.plot(history.history['val_acc'],'b',linewidth=3.0)\n",
        "plt.legend(['Training Accuracy','Validation Accuracy'], fontsize=18)\n",
        "plt.xlabel('Epochs', fontsize=16)\n",
        "plt.ylabel('Accuracy', fontsize=16)\n",
        "plt.title('Accuracy Curves',  fontsize=16)"
      ],
      "metadata": {
        "colab": {
          "base_uri": "https://localhost:8080/",
          "height": 1000
        },
        "id": "PtJRWDb7Uf3c",
        "outputId": "3fc1f53e-52aa-4648-b398-8e3c2030df19"
      },
      "execution_count": 13,
      "outputs": [
        {
          "output_type": "stream",
          "name": "stdout",
          "text": [
            "Model: \"sequential\"\n",
            "_________________________________________________________________\n",
            " Layer (type)                Output Shape              Param #   \n",
            "=================================================================\n",
            " conv2d (Conv2D)             (None, 32, 32, 32)        896       \n",
            "                                                                 \n",
            " conv2d_1 (Conv2D)           (None, 30, 30, 32)        9248      \n",
            "                                                                 \n",
            " max_pooling2d (MaxPooling2D  (None, 15, 15, 32)       0         \n",
            " )                                                               \n",
            "                                                                 \n",
            " dropout (Dropout)           (None, 15, 15, 32)        0         \n",
            "                                                                 \n",
            " conv2d_2 (Conv2D)           (None, 15, 15, 64)        18496     \n",
            "                                                                 \n",
            " conv2d_3 (Conv2D)           (None, 13, 13, 64)        36928     \n",
            "                                                                 \n",
            " max_pooling2d_1 (MaxPooling  (None, 6, 6, 64)         0         \n",
            " 2D)                                                             \n",
            "                                                                 \n",
            " dropout_1 (Dropout)         (None, 6, 6, 64)          0         \n",
            "                                                                 \n",
            " flatten (Flatten)           (None, 2304)              0         \n",
            "                                                                 \n",
            " dense (Dense)               (None, 512)               1180160   \n",
            "                                                                 \n",
            " dropout_2 (Dropout)         (None, 512)               0         \n",
            "                                                                 \n",
            " dense_1 (Dense)             (None, 10)                5130      \n",
            "                                                                 \n",
            "=================================================================\n",
            "Total params: 1,250,858\n",
            "Trainable params: 1,250,858\n",
            "Non-trainable params: 0\n",
            "_________________________________________________________________\n",
            "Epoch 1/3\n",
            "16667/16667 [==============================] - 702s 42ms/step - loss: 1.9389 - accuracy: 0.3188 - val_loss: 1.7840 - val_accuracy: 0.3557\n",
            "Epoch 2/3\n",
            "16667/16667 [==============================] - 702s 42ms/step - loss: 2.1839 - accuracy: 0.2345 - val_loss: 2.2783 - val_accuracy: 0.2006\n",
            "Epoch 3/3\n",
            "16667/16667 [==============================] - 734s 44ms/step - loss: 2.3650 - accuracy: 0.1557 - val_loss: 2.2978 - val_accuracy: 0.1389\n",
            "313/313 [==============================] - 12s 39ms/step - loss: 2.2978 - accuracy: 0.1389\n",
            "313/313 [==============================] - 13s 41ms/step\n"
          ]
        },
        {
          "output_type": "error",
          "ename": "KeyError",
          "evalue": "ignored",
          "traceback": [
            "\u001b[0;31m---------------------------------------------------------------------------\u001b[0m",
            "\u001b[0;31mKeyError\u001b[0m                                  Traceback (most recent call last)",
            "\u001b[0;32m<ipython-input-13-6e85422f5239>\u001b[0m in \u001b[0;36m<module>\u001b[0;34m\u001b[0m\n\u001b[1;32m     33\u001b[0m \u001b[0mplt\u001b[0m\u001b[0;34m.\u001b[0m\u001b[0mfigure\u001b[0m\u001b[0;34m(\u001b[0m\u001b[0mfigsize\u001b[0m\u001b[0;34m=\u001b[0m\u001b[0;34m[\u001b[0m\u001b[0;36m8\u001b[0m\u001b[0;34m,\u001b[0m\u001b[0;36m6\u001b[0m\u001b[0;34m]\u001b[0m\u001b[0;34m)\u001b[0m\u001b[0;34m\u001b[0m\u001b[0;34m\u001b[0m\u001b[0m\n\u001b[1;32m     34\u001b[0m \u001b[0mplt\u001b[0m\u001b[0;34m.\u001b[0m\u001b[0mplot\u001b[0m\u001b[0;34m(\u001b[0m\u001b[0mhistory\u001b[0m\u001b[0;34m.\u001b[0m\u001b[0mhistory\u001b[0m\u001b[0;34m[\u001b[0m\u001b[0;34m'loss'\u001b[0m\u001b[0;34m]\u001b[0m\u001b[0;34m,\u001b[0m\u001b[0;34m'r'\u001b[0m\u001b[0;34m,\u001b[0m\u001b[0mlinewidth\u001b[0m\u001b[0;34m=\u001b[0m\u001b[0;36m3.0\u001b[0m\u001b[0;34m)\u001b[0m\u001b[0;34m\u001b[0m\u001b[0;34m\u001b[0m\u001b[0m\n\u001b[0;32m---> 35\u001b[0;31m \u001b[0mplt\u001b[0m\u001b[0;34m.\u001b[0m\u001b[0mplot\u001b[0m\u001b[0;34m(\u001b[0m\u001b[0mhistory\u001b[0m\u001b[0;34m.\u001b[0m\u001b[0mhistory\u001b[0m\u001b[0;34m[\u001b[0m\u001b[0;34m'var_loss'\u001b[0m\u001b[0;34m]\u001b[0m\u001b[0;34m,\u001b[0m\u001b[0;34m'b'\u001b[0m\u001b[0;34m,\u001b[0m\u001b[0mlinewidth\u001b[0m\u001b[0;34m=\u001b[0m\u001b[0;36m3.0\u001b[0m\u001b[0;34m)\u001b[0m\u001b[0;34m\u001b[0m\u001b[0;34m\u001b[0m\u001b[0m\n\u001b[0m\u001b[1;32m     36\u001b[0m \u001b[0mplt\u001b[0m\u001b[0;34m.\u001b[0m\u001b[0mlegend\u001b[0m\u001b[0;34m(\u001b[0m\u001b[0;34m[\u001b[0m\u001b[0;34m'Training loss'\u001b[0m\u001b[0;34m,\u001b[0m\u001b[0;34m'Validation loss'\u001b[0m\u001b[0;34m]\u001b[0m\u001b[0;34m,\u001b[0m\u001b[0mfontsize\u001b[0m\u001b[0;34m=\u001b[0m\u001b[0;36m18\u001b[0m\u001b[0;34m)\u001b[0m\u001b[0;34m\u001b[0m\u001b[0;34m\u001b[0m\u001b[0m\n\u001b[1;32m     37\u001b[0m \u001b[0mplt\u001b[0m\u001b[0;34m.\u001b[0m\u001b[0mxlabel\u001b[0m\u001b[0;34m(\u001b[0m\u001b[0;34m'Epochs'\u001b[0m\u001b[0;34m,\u001b[0m \u001b[0mfontsize\u001b[0m\u001b[0;34m=\u001b[0m\u001b[0;36m16\u001b[0m\u001b[0;34m)\u001b[0m\u001b[0;34m\u001b[0m\u001b[0;34m\u001b[0m\u001b[0m\n",
            "\u001b[0;31mKeyError\u001b[0m: 'var_loss'"
          ]
        },
        {
          "output_type": "display_data",
          "data": {
            "text/plain": [
              "<Figure size 576x432 with 1 Axes>"
            ],
            "image/png": "[encoded data removed]"
          },
          "metadata": {
            "needs_background": "light"
          }
        }
      ]
    }
  ]
}