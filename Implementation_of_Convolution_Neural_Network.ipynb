{
  "nbformat": 4,
  "nbformat_minor": 0,
  "metadata": {
    "colab": {
      "provenance": [],
      "authorship_tag": "ABX9TyPA/YLq7wnj//xRqQLf1ukw",
      "include_colab_link": true
    },
    "kernelspec": {
      "name": "python3",
      "display_name": "Python 3"
    },
    "language_info": {
      "name": "python"
    }
  },
  "cells": [
    {
      "cell_type": "markdown",
      "metadata": {
        "id": "view-in-github",
        "colab_type": "text"
      },
      "source": [
        "<a href=\"https://colab.research.google.com/github/2147118Joshua/Neural-Networks/blob/main/Implementation_of_Convolution_Neural_Network.ipynb\" target=\"_parent\"><img src=\"https://colab.research.google.com/assets/colab-badge.svg\" alt=\"Open In Colab\"/></a>"
      ]
    },
    {
      "cell_type": "code",
      "execution_count": 28,
      "metadata": {
        "id": "pTTKi0C7KdAt"
      },
      "outputs": [],
      "source": [
        "import numpy as np\n",
        "import math"
      ]
    },
    {
      "cell_type": "code",
      "source": [
        "input = np.random.randint(10,size=(5,5))\n",
        "kernel = np.random.randint(0,2,(3,3))"
      ],
      "metadata": {
        "id": "UBxM3_TAKnev"
      },
      "execution_count": 29,
      "outputs": []
    },
    {
      "cell_type": "markdown",
      "source": [
        "show code"
      ],
      "metadata": {
        "id": "H3M4Ov6hM6u7"
      }
    },
    {
      "cell_type": "code",
      "source": [
        "def convolve(input,kernel,padding,stride):\n",
        "  Nout = int((((input.shape)[0]+ (2*padding) - (kernel.shape)[0])/stride)+1)\n",
        "  output = np.zeros((Nout,Nout))\n",
        "  x = 0\n",
        "  y = 0\n",
        "  size = len(output[0])\n",
        "  for j in range(0,size):\n",
        "    for i in range(0,size):\n",
        "      submatrix = input[x:x+(kernel.shape)[0],y:y+(kernel.shape)[0]]\n",
        "      output[j][i] = (np.multiply(submatrix,kernel)).sum()\n",
        "      y = y + stride\n",
        "    y = 0\n",
        "    x = x + stride\n",
        "    return output"
      ],
      "metadata": {
        "id": "JiW-UBUtKrVa"
      },
      "execution_count": 30,
      "outputs": []
    },
    {
      "cell_type": "code",
      "source": [
        "padding = 0\n",
        "stride = 1\n"
      ],
      "metadata": {
        "id": "2_pDVrjCKwZm"
      },
      "execution_count": 31,
      "outputs": []
    },
    {
      "cell_type": "markdown",
      "source": [
        "Stride = 1"
      ],
      "metadata": {
        "id": "6MLVHVO7NRdZ"
      }
    },
    {
      "cell_type": "code",
      "source": [
        "output1 = convolve(input,kernel,padding = 0 ,stride = 1)"
      ],
      "metadata": {
        "id": "Gl2qldgjKzVH"
      },
      "execution_count": 32,
      "outputs": []
    },
    {
      "cell_type": "code",
      "source": [
        "output1"
      ],
      "metadata": {
        "colab": {
          "base_uri": "https://localhost:8080/"
        },
        "id": "GSpaRcO6K2Cz",
        "outputId": "55bfb092-4b1d-4c95-b036-52f8223a0466"
      },
      "execution_count": 33,
      "outputs": [
        {
          "output_type": "execute_result",
          "data": {
            "text/plain": [
              "array([[17., 17., 28.],\n",
              "       [ 0.,  0.,  0.],\n",
              "       [ 0.,  0.,  0.]])"
            ]
          },
          "metadata": {},
          "execution_count": 33
        }
      ]
    },
    {
      "cell_type": "markdown",
      "source": [
        "Stride = 2"
      ],
      "metadata": {
        "id": "i2HBW3rhNUWR"
      }
    },
    {
      "cell_type": "code",
      "source": [
        "output2 = convolve(input,kernel,padding = 0 ,stride = 2)"
      ],
      "metadata": {
        "id": "QEO0qXVeK3F-"
      },
      "execution_count": 34,
      "outputs": []
    },
    {
      "cell_type": "code",
      "source": [
        "output2"
      ],
      "metadata": {
        "colab": {
          "base_uri": "https://localhost:8080/"
        },
        "id": "vmD9OFJmNbZ-",
        "outputId": "04febe89-f4bf-408d-b2ed-9fddfa3b2de6"
      },
      "execution_count": 35,
      "outputs": [
        {
          "output_type": "execute_result",
          "data": {
            "text/plain": [
              "array([[17., 28.],\n",
              "       [ 0.,  0.]])"
            ]
          },
          "metadata": {},
          "execution_count": 35
        }
      ]
    },
    {
      "cell_type": "code",
      "source": [
        "def Pooling (input, filterShape, stride, poolingType):\n",
        "  Nout = int((((input.shape)[0] - filterShape)/stride) + 1 )\n",
        "  output = np.zeros((Nout,Nout))\n",
        "  x = 0\n",
        "  y = 0\n",
        "  size = len(output[0])\n",
        "  for j in range(0,size):\n",
        "    for i in range(0,size):\n",
        "      submatrix = input[x:x + filterShape, y:y + filterShape]\n",
        "      if poolingType == 'max':\n",
        "        output[j][i] = submatrix.max()\n",
        "      elif poolingType == 'average':\n",
        "        output[j][i] = np.average(submatrix)\n",
        "      else : # sum\n",
        "        output[j][i] = submatrix.sum()\n",
        "      y = y + stride\n",
        "    y = 0\n",
        "    x = x + stride\n",
        "  return output"
      ],
      "metadata": {
        "id": "NOu3AdZ4K5wS"
      },
      "execution_count": 36,
      "outputs": []
    },
    {
      "cell_type": "code",
      "source": [
        "sumPooled = Pooling(output1,2,1,'sum')\n",
        "print(\"Sum Pooling : \\n\",sumPooled)"
      ],
      "metadata": {
        "colab": {
          "base_uri": "https://localhost:8080/"
        },
        "id": "7rq9MXDYNhPo",
        "outputId": "5c9fcc9a-0689-47db-895b-0d821ccea216"
      },
      "execution_count": 37,
      "outputs": [
        {
          "output_type": "stream",
          "name": "stdout",
          "text": [
            "Sum Pooling : \n",
            " [[34. 45.]\n",
            " [ 0.  0.]]\n"
          ]
        }
      ]
    },
    {
      "cell_type": "code",
      "source": [
        "avgPooled = Pooling(output1,2,1,'average')\n",
        "print(\"Average Pooling : \\n\",avgPooled)"
      ],
      "metadata": {
        "colab": {
          "base_uri": "https://localhost:8080/"
        },
        "id": "hx_lsIspNjyG",
        "outputId": "41b22d97-eaa6-478c-ebb0-bb98bcdd08ee"
      },
      "execution_count": 38,
      "outputs": [
        {
          "output_type": "stream",
          "name": "stdout",
          "text": [
            "Average Pooling : \n",
            " [[ 8.5  11.25]\n",
            " [ 0.    0.  ]]\n"
          ]
        }
      ]
    },
    {
      "cell_type": "code",
      "source": [
        "maxPooled = Pooling(output1,2,1,'max')\n",
        "print(\"Max Pooling : \\n\",maxPooled)"
      ],
      "metadata": {
        "colab": {
          "base_uri": "https://localhost:8080/"
        },
        "id": "6Kn-xhaqNl5i",
        "outputId": "a52f5ab9-edc7-455e-8523-90ef4fc13dd0"
      },
      "execution_count": 39,
      "outputs": [
        {
          "output_type": "stream",
          "name": "stdout",
          "text": [
            "Max Pooling : \n",
            " [[17. 28.]\n",
            " [ 0.  0.]]\n"
          ]
        }
      ]
    },
    {
      "cell_type": "code",
      "source": [
        "sumPooledFlattened = sumPooled.flatten()\n",
        "print(\"Flattened version of sum pooled : \",sumPooledFlattened)"
      ],
      "metadata": {
        "colab": {
          "base_uri": "https://localhost:8080/"
        },
        "id": "QQa7oSllNnwk",
        "outputId": "54366d9e-58a1-441d-b17d-7eb36ea162fb"
      },
      "execution_count": 40,
      "outputs": [
        {
          "output_type": "stream",
          "name": "stdout",
          "text": [
            "Flattened version of sum pooled :  [34. 45.  0.  0.]\n"
          ]
        }
      ]
    },
    {
      "cell_type": "code",
      "source": [
        "avgPooledFlattened = avgPooled.flatten()\n",
        "print(\"Flattened version of average pooled : \",avgPooledFlattened)"
      ],
      "metadata": {
        "colab": {
          "base_uri": "https://localhost:8080/"
        },
        "id": "ArXtgvmPNprM",
        "outputId": "08c4892a-a03c-4a55-c218-1ab46062bfd9"
      },
      "execution_count": 41,
      "outputs": [
        {
          "output_type": "stream",
          "name": "stdout",
          "text": [
            "Flattened version of average pooled :  [ 8.5  11.25  0.    0.  ]\n"
          ]
        }
      ]
    },
    {
      "cell_type": "code",
      "source": [
        "maxPooledFlattened = maxPooled.flatten()\n",
        "print(\"Flattened version of max pooled : \",maxPooledFlattened)"
      ],
      "metadata": {
        "colab": {
          "base_uri": "https://localhost:8080/"
        },
        "id": "BfpfEtU8Nr4u",
        "outputId": "234d937b-9552-41dc-9f02-824e2ee0f482"
      },
      "execution_count": 42,
      "outputs": [
        {
          "output_type": "stream",
          "name": "stdout",
          "text": [
            "Flattened version of max pooled :  [17. 28.  0.  0.]\n"
          ]
        }
      ]
    },
    {
      "cell_type": "code",
      "source": [
        "X = []\n",
        "(X.append(maxPooledFlattened[0:]))\n",
        "T = np.array([[1]])\n",
        "W1 = np.random.uniform(size=(1,4),low=-0.5,high = 0.8)\n",
        "W2 = (np.random.uniform(size=(1,2),low=-0.5,high = 0.8))[0]\n",
        "B1 = np.array([1,1])\n",
        "B2 = np.array([0.5])\n",
        "alpha = 0.1\n",
        "epoch = 200\n",
        "error_tolerence = 0.40"
      ],
      "metadata": {
        "id": "CsTEvNvQNuAn"
      },
      "execution_count": 43,
      "outputs": []
    },
    {
      "cell_type": "code",
      "source": [
        "def BipolarSigmoid(x):\n",
        "  return (2/(1+math.exp(-x))) - 1"
      ],
      "metadata": {
        "id": "QezuRVSnNv-n"
      },
      "execution_count": 44,
      "outputs": []
    },
    {
      "cell_type": "code",
      "source": [
        "def BipolarSigmoidDerivative(x):\n",
        "  return 0.5*(1-x)*(1+x)"
      ],
      "metadata": {
        "id": "ZP2Z7867NzY6"
      },
      "execution_count": 45,
      "outputs": []
    },
    {
      "cell_type": "code",
      "source": [
        "def DeltaHidden(delta_in, Z):\n",
        "  return delta_in * BipolarSigmoidDerivative(Z)"
      ],
      "metadata": {
        "id": "WTJOYNKGN15i"
      },
      "execution_count": 46,
      "outputs": []
    },
    {
      "cell_type": "code",
      "source": [
        "def Perceptron(x,w1,w2,b1,b2,t,a,e):\n",
        "  for count in range(e):\n",
        "    for i,row in enumerate(x):\n",
        "      Zin = np.dot(row, w1.T) + b1\n",
        "      Zout = np.vectorize(BipolarSigmoid)(Zin)\n",
        "      Yin = np.dot(Zout,w2.transpose()) + b2\n",
        "      Y = np.vectorize(BipolarSigmoid)(Yin)\n",
        "      if(t[i] != Y[0]):\n",
        "        delta_y = (t[i] - Y) * (BipolarSigmoidDerivative(Y))\n",
        "        delta_in_z = delta_y * w2\n",
        "        delta_Z = delta_in_z * np.vectorize(BipolarSigmoidDerivative)(Zout)\n",
        "        for index in range(len(w1)):\n",
        "          w1[index] = (w1[index].T + a*delta_Z[index]*row.T).T\n",
        "        w2 = (w2.T +a*delta_y*Zout.T).T\n",
        "        b1 = b1 + a*delta_Z\n",
        "        b2 = b2 + a*delta_y\n",
        "  return GetResult(w1,w2,b1,b2)\n",
        "\n",
        "\n",
        "\n",
        "\n",
        "def GetResult(w1,w2,b1,b2):\n",
        "  result = []\n",
        "  result.append(w1)\n",
        "  result.append(w2)\n",
        "  result.append(b1)\n",
        "  result.append(b2)\n",
        "  return result\n",
        "\n",
        "epoch = 1\n",
        "adjustedWeights = Perceptron(X,W1,W2,B1,B2,T,alpha,epoch)\n",
        "W1 = adjustedWeights[0]\n",
        "W2 = adjustedWeights[1]\n",
        "B1 = adjustedWeights[2]\n",
        "B2 = adjustedWeights[3]\n",
        "\n",
        "print(\"W1 : \",W1)\n",
        "print(\"W2 : \",W2)\n",
        "print(\"B1 : \",B1)\n",
        "print(\"B2 : \",B2)\n"
      ],
      "metadata": {
        "colab": {
          "base_uri": "https://localhost:8080/"
        },
        "id": "6CTLVGrcN494",
        "outputId": "d284454d-59fb-4f35-f110-c69971b7923c"
      },
      "execution_count": 47,
      "outputs": [
        {
          "output_type": "stream",
          "name": "stdout",
          "text": [
            "W1 :  [[0.42360711 0.02146188 0.63910217 0.30139494]]\n",
            "W2 :  [-0.05004073  0.06608007]\n",
            "B1 :  [0.99999902 1.00000032]\n",
            "B2 :  [0.53729153]\n"
          ]
        }
      ]
    }
  ]
}